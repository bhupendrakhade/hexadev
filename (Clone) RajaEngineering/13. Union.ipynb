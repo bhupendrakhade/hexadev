{
 "cells": [
  {
   "cell_type": "markdown",
   "metadata": {
    "application/vnd.databricks.v1+cell": {
     "cellMetadata": {},
     "inputWidgets": {},
     "nuid": "387a12e4-2520-4e31-a6ac-fe39cb4ee569",
     "showTitle": false,
     "tableResultSettingsMap": {},
     "title": ""
    }
   },
   "source": [
    "## DataFrame _1_"
   ]
  },
  {
   "cell_type": "code",
   "execution_count": 0,
   "metadata": {
    "application/vnd.databricks.v1+cell": {
     "cellMetadata": {
      "byteLimit": 2048000,
      "rowLimit": 10000
     },
     "inputWidgets": {},
     "nuid": "0405f70a-1f34-42e3-8b39-53d0e86d2fc3",
     "showTitle": false,
     "tableResultSettingsMap": {},
     "title": ""
    }
   },
   "outputs": [],
   "source": [
    "employee_data = [\n",
    "    (100, \"Stephen\", \"1999\", \"100\", \"M\", 2000),\n",
    "    (200, \"Philipp\", \"2002\", \"200\", \"M\", 8000),\n",
    "    (300, \"John\", \"2010\", \"100\", None, 6000),\n",
    "]\n",
    "employee_schema = [\"employee_id\", \"name\", \"doj\",\n",
    "                   \"employee_dept_id\", \"gender\", \"salary\"]\n",
    "\n",
    "    \n",
    "\n",
    "DF1 = spark.createDataFrame(data=employee_data, schema=employee_schema)\n",
    "\n",
    "\n",
    "DF1 = DF1.select(\"salary\",\"doj\",\"employee_id\", \"name\",  \"employee_dept_id\" )\n",
    "\n",
    "display(DF1)"
   ]
  },
  {
   "cell_type": "markdown",
   "metadata": {
    "application/vnd.databricks.v1+cell": {
     "cellMetadata": {},
     "inputWidgets": {},
     "nuid": "1f5cfff8-b8cd-4e0f-9367-9d215b7dda1f",
     "showTitle": false,
     "tableResultSettingsMap": {},
     "title": ""
    }
   },
   "source": [
    "## DataFrame _2_"
   ]
  },
  {
   "cell_type": "code",
   "execution_count": 0,
   "metadata": {
    "application/vnd.databricks.v1+cell": {
     "cellMetadata": {
      "byteLimit": 2048000,
      "rowLimit": 10000
     },
     "inputWidgets": {},
     "nuid": "4a844030-a18c-459f-b8c1-a3df3d4277ec",
     "showTitle": false,
     "tableResultSettingsMap": {},
     "title": ""
    }
   },
   "outputs": [],
   "source": [
    "employee_data = [\n",
    "    (300, \"John\", \"2010\", \"100\", None, 6000),\n",
    "    (400, \"Nancy\", \"2008\", \"400\", \"F\", 1000),\n",
    "    (500, \"Rosy\", \"2014\", \"500\", \"M\", 5000),\n",
    "]\n",
    "employee_schema = [\"employee_id\", \"name\", \"doj\",\n",
    "                   \"employee_dept_id\", \"gender\", \"salary\"]\n",
    "\n",
    "DF2 = spark.createDataFrame(data=employee_data, schema=employee_schema)\n",
    "\n",
    "\n",
    "display(DF2)"
   ]
  },
  {
   "cell_type": "markdown",
   "metadata": {
    "application/vnd.databricks.v1+cell": {
     "cellMetadata": {},
     "inputWidgets": {},
     "nuid": "7de87723-972d-47e3-b773-d0a53c3d32c1",
     "showTitle": false,
     "tableResultSettingsMap": {},
     "title": ""
    }
   },
   "source": [
    "Union"
   ]
  },
  {
   "cell_type": "code",
   "execution_count": 0,
   "metadata": {
    "application/vnd.databricks.v1+cell": {
     "cellMetadata": {
      "byteLimit": 2048000,
      "rowLimit": 10000
     },
     "inputWidgets": {},
     "nuid": "e49a9065-ce47-49e1-bfc5-8ebabba017c3",
     "showTitle": false,
     "tableResultSettingsMap": {},
     "title": ""
    }
   },
   "outputs": [],
   "source": [
    "merged = DF1.unionAll(DF2)\n",
    "display(merged)"
   ]
  },
  {
   "cell_type": "code",
   "execution_count": 0,
   "metadata": {
    "application/vnd.databricks.v1+cell": {
     "cellMetadata": {
      "byteLimit": 2048000,
      "rowLimit": 10000
     },
     "inputWidgets": {},
     "nuid": "884372b8-746c-423e-be34-b04dedc01efb",
     "showTitle": false,
     "tableResultSettingsMap": {},
     "title": ""
    }
   },
   "outputs": [],
   "source": [
    "merged_distinct = merged.distinct()\n",
    "display(merged)"
   ]
  },
  {
   "cell_type": "code",
   "execution_count": 0,
   "metadata": {
    "application/vnd.databricks.v1+cell": {
     "cellMetadata": {
      "byteLimit": 2048000,
      "rowLimit": 10000
     },
     "inputWidgets": {},
     "nuid": "b37e461d-eed8-41f9-a7f3-76d0919d8915",
     "showTitle": false,
     "tableResultSettingsMap": {},
     "title": ""
    }
   },
   "outputs": [],
   "source": [
    "merged = DF1.unionByName(DF2,allowMissingColumns=True)\n",
    "display(merged)"
   ]
  },
  {
   "cell_type": "code",
   "execution_count": 0,
   "metadata": {
    "application/vnd.databricks.v1+cell": {
     "cellMetadata": {
      "byteLimit": 2048000,
      "rowLimit": 10000
     },
     "inputWidgets": {},
     "nuid": "049d229f-deb1-4ccd-8903-896a55d70568",
     "showTitle": false,
     "tableResultSettingsMap": {},
     "title": ""
    }
   },
   "outputs": [],
   "source": [
    "merged.explain(extended=True, mode=\"extended\")"
   ]
  },
  {
   "cell_type": "code",
   "execution_count": 0,
   "metadata": {
    "application/vnd.databricks.v1+cell": {
     "cellMetadata": {
      "byteLimit": 2048000,
      "rowLimit": 10000
     },
     "inputWidgets": {},
     "nuid": "fe3b5778-4d08-41d1-8934-81dd62c138ed",
     "showTitle": false,
     "tableResultSettingsMap": {},
     "title": ""
    }
   },
   "outputs": [],
   "source": [
    "merged.explain(extended=True, mode=\"cost\")"
   ]
  },
  {
   "cell_type": "code",
   "execution_count": 0,
   "metadata": {
    "application/vnd.databricks.v1+cell": {
     "cellMetadata": {},
     "inputWidgets": {},
     "nuid": "c4e493bb-a628-4ab2-a9a7-453fdfc1ebd5",
     "showTitle": false,
     "tableResultSettingsMap": {},
     "title": ""
    }
   },
   "outputs": [],
   "source": []
  }
 ],
 "metadata": {
  "application/vnd.databricks.v1+notebook": {
   "computePreferences": null,
   "dashboards": [],
   "environmentMetadata": {
    "base_environment": "",
    "environment_version": "2"
   },
   "inputWidgetPreferences": null,
   "language": "python",
   "notebookMetadata": {
    "pythonIndentUnit": 4
   },
   "notebookName": "13. Union",
   "widgets": {}
  },
  "language_info": {
   "name": "python"
  }
 },
 "nbformat": 4,
 "nbformat_minor": 0
}
