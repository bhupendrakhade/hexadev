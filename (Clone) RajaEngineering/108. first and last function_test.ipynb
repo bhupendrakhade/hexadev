{
 "cells": [
  {
   "cell_type": "code",
   "execution_count": 0,
   "metadata": {
    "application/vnd.databricks.v1+cell": {
     "cellMetadata": {
      "byteLimit": 2048000,
      "rowLimit": 10000
     },
     "inputWidgets": {},
     "nuid": "bf8c6b39-dd27-4590-9bcf-7b1e0dc98165",
     "showTitle": false,
     "tableResultSettingsMap": {},
     "title": ""
    }
   },
   "outputs": [],
   "source": [
    "from pyspark.sql.functions import *\n",
    "\n",
    "# Create the input DataFrame\n",
    "data = [\n",
    "    (\"C1\", \"2023-06-01\", 100.0),\n",
    "    (\"C1\", \"2023-06-02\", 150.0),\n",
    "    (\"C1\", \"2023-06-03\", 200.0),\n",
    "    (\"C2\", \"2023-06-01\", 50.0),\n",
    "    (\"C2\", \"2023-06-03\", 100.0),\n",
    "    (\"C2\", \"2023-06-02\", 75.0)\n",
    "    \n",
    "]\n",
    "\n",
    "df = spark.createDataFrame(data, [\"customer_id\", \"transaction_date\", \"amount\"])\n",
    "\n",
    "# Convert the transaction_date column to date type\n",
    "df = df.withColumn(\"transaction_date\", to_date(col(\"transaction_date\")))\n",
    "\n",
    "df.display()"
   ]
  },
  {
   "cell_type": "code",
   "execution_count": 0,
   "metadata": {
    "application/vnd.databricks.v1+cell": {
     "cellMetadata": {
      "byteLimit": 2048000,
      "rowLimit": 10000
     },
     "inputWidgets": {},
     "nuid": "e78f640a-43af-4b93-b9e5-ec8379ad6214",
     "showTitle": false,
     "tableResultSettingsMap": {},
     "title": ""
    }
   },
   "outputs": [],
   "source": [
    "result_df = df.orderBy(\"customer_id\", \"transaction_date\").groupBy(\"customer_id\").agg(first(\"transaction_date\").alias(\"first_transaction_date\"), last(\"transaction_date\").alias(\"last_transaction_date\"))\n",
    "\n",
    "display(result_df)"
   ]
  },
  {
   "cell_type": "code",
   "execution_count": 0,
   "metadata": {
    "application/vnd.databricks.v1+cell": {
     "cellMetadata": {
      "byteLimit": 2048000,
      "rowLimit": 10000
     },
     "inputWidgets": {},
     "nuid": "33d616b9-f772-41d3-96a1-3dfe1136c9ff",
     "showTitle": false,
     "tableResultSettingsMap": {},
     "title": ""
    }
   },
   "outputs": [],
   "source": [
    "df.drop(\"customer_id\",\"amount\").display()"
   ]
  },
  {
   "cell_type": "code",
   "execution_count": 0,
   "metadata": {
    "application/vnd.databricks.v1+cell": {
     "cellMetadata": {},
     "inputWidgets": {},
     "nuid": "3dec822d-4a0e-41f7-861b-3d14bb48422f",
     "showTitle": false,
     "tableResultSettingsMap": {},
     "title": ""
    }
   },
   "outputs": [],
   "source": []
  }
 ],
 "metadata": {
  "application/vnd.databricks.v1+notebook": {
   "computePreferences": null,
   "dashboards": [],
   "environmentMetadata": {
    "base_environment": "",
    "environment_version": "2"
   },
   "inputWidgetPreferences": null,
   "language": "python",
   "notebookMetadata": {
    "pythonIndentUnit": 4
   },
   "notebookName": "108. first and last function_test",
   "widgets": {}
  },
  "language_info": {
   "name": "python"
  }
 },
 "nbformat": 4,
 "nbformat_minor": 0
}
