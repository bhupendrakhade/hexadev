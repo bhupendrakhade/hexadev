{
 "cells": [
  {
   "cell_type": "markdown",
   "metadata": {
    "application/vnd.databricks.v1+cell": {
     "cellMetadata": {},
     "inputWidgets": {},
     "nuid": "cc95737d-8b66-4eb4-ab91-6a287e067093",
     "showTitle": false,
     "tableResultSettingsMap": {},
     "title": ""
    }
   },
   "source": [
    "## 1. Explode Array "
   ]
  },
  {
   "cell_type": "code",
   "execution_count": 0,
   "metadata": {
    "application/vnd.databricks.v1+cell": {
     "cellMetadata": {
      "byteLimit": 2048000,
      "rowLimit": 10000
     },
     "inputWidgets": {},
     "nuid": "f470786b-642c-4281-8829-c69eb00d56cc",
     "showTitle": false,
     "tableResultSettingsMap": {},
     "title": ""
    }
   },
   "outputs": [],
   "source": [
    "array_appliance = [\n",
    "    ('Raja', ['TV', 'Refrigerator', 'Oven', 'AC']),\n",
    "    ('Raghav', ['AC', 'Washing machine', None]),\n",
    "    ('Ram', ['Grinder', 'TV']),\n",
    "    ('Ramesh', ['Refrigerator', 'TV', None]),\n",
    "    ('Rajesh', None)\n",
    "]\n",
    "\n",
    "df_app = spark.createDataFrame(data=array_appliance, schema=['name', 'Appliances'])\n",
    "df_app.printSchema()\n",
    "display(df_app)"
   ]
  },
  {
   "cell_type": "code",
   "execution_count": 0,
   "metadata": {
    "application/vnd.databricks.v1+cell": {
     "cellMetadata": {
      "byteLimit": 2048000,
      "rowLimit": 10000
     },
     "inputWidgets": {},
     "nuid": "2debd511-1155-483a-942d-00746f3ffb8d",
     "showTitle": false,
     "tableResultSettingsMap": {},
     "title": ""
    }
   },
   "outputs": [],
   "source": [
    "from pyspark.sql.functions import explode\n",
    "\n",
    "df2 = df_app.select(df_app.name, explode(df_app.Appliances))\n",
    "# OR df2 = df_app.withColumn(\"individual_fruit\", explode(df_app[\"Appliances\"]))\n",
    "\n",
    "df2.printSchema()\n",
    "display(df2)\n",
    "\n"
   ]
  },
  {
   "cell_type": "markdown",
   "metadata": {
    "application/vnd.databricks.v1+cell": {
     "cellMetadata": {},
     "inputWidgets": {},
     "nuid": "fbed445c-a130-4e1b-9cdd-0dc4441be792",
     "showTitle": false,
     "tableResultSettingsMap": {},
     "title": ""
    }
   },
   "source": [
    "## 2. Explode Map"
   ]
  },
  {
   "cell_type": "code",
   "execution_count": 0,
   "metadata": {
    "application/vnd.databricks.v1+cell": {
     "cellMetadata": {
      "byteLimit": 2048000,
      "rowLimit": 10000
     },
     "inputWidgets": {},
     "nuid": "2322b8a5-1060-4b97-a925-3e241193840f",
     "showTitle": false,
     "tableResultSettingsMap": {},
     "title": ""
    }
   },
   "outputs": [],
   "source": [
    "map_brand = [\n",
    "    ('Raja', {'TV': 'LG', 'Refrigerator': 'Samsung', 'Oven': 'Philips', 'AC': 'Voltas'}),\n",
    "    ('Raghav', {'AC': 'Samsung', 'Washing machine': 'LG'}),\n",
    "    ('Ram', {'Grinder': 'Preethi', 'TV': ''}),\n",
    "    ('Ramesh', {'Refrigerator': 'LG', 'TV': 'Croma'}),\n",
    "    ('Rajesh', None)\n",
    "]\n",
    "\n",
    "df_brand = spark.createDataFrame(data=map_brand, schema=['name', 'Brand'])\n",
    "df_brand.printSchema()\n",
    "display(df_brand)"
   ]
  },
  {
   "cell_type": "code",
   "execution_count": 0,
   "metadata": {
    "application/vnd.databricks.v1+cell": {
     "cellMetadata": {
      "byteLimit": 2048000,
      "rowLimit": 10000
     },
     "inputWidgets": {},
     "nuid": "de1dea38-09f6-481c-a5ab-3333093a84cd",
     "showTitle": false,
     "tableResultSettingsMap": {},
     "title": ""
    }
   },
   "outputs": [],
   "source": [
    "from pyspark.sql.functions import explode\n",
    "\n",
    "df3 = df_brand.select(df_brand.name, explode(df_brand.Brand))\n",
    "\n",
    "df3.printSchema()\n",
    "display(df3)"
   ]
  },
  {
   "cell_type": "markdown",
   "metadata": {
    "application/vnd.databricks.v1+cell": {
     "cellMetadata": {},
     "inputWidgets": {},
     "nuid": "0455a008-29bb-4e89-84d0-63c483347ea4",
     "showTitle": false,
     "tableResultSettingsMap": {},
     "title": ""
    }
   },
   "source": [
    "## 3. Explode Outer to consider Null ![values](path)"
   ]
  },
  {
   "cell_type": "code",
   "execution_count": 0,
   "metadata": {
    "application/vnd.databricks.v1+cell": {
     "cellMetadata": {
      "byteLimit": 2048000,
      "rowLimit": 10000
     },
     "inputWidgets": {},
     "nuid": "b2b855d7-b838-4f4d-98c1-58c237164aee",
     "showTitle": false,
     "tableResultSettingsMap": {},
     "title": ""
    }
   },
   "outputs": [],
   "source": [
    "array_appliance = [\n",
    "    ('Raja', ['TV', 'Refrigerator', 'Oven', 'AC']),\n",
    "    ('Raghav', ['AC', 'Washing machine', None]),\n",
    "    ('Ram', ['Grinder', 'TV']),\n",
    "    ('Ramesh', ['Refrigerator', 'TV', None]),\n",
    "    ('Rajesh', None)\n",
    "]\n",
    "\n",
    "df_app = spark.createDataFrame(data=array_appliance, schema=['name', 'Appliances'])\n",
    "df_app.printSchema()\n",
    "display(df_app)\n"
   ]
  },
  {
   "cell_type": "code",
   "execution_count": 0,
   "metadata": {
    "application/vnd.databricks.v1+cell": {
     "cellMetadata": {
      "byteLimit": 2048000,
      "rowLimit": 10000
     },
     "inputWidgets": {},
     "nuid": "b5aba459-f978-4258-94ab-45b8935f5744",
     "showTitle": false,
     "tableResultSettingsMap": {},
     "title": ""
    }
   },
   "outputs": [],
   "source": [
    "from pyspark.sql.functions import explode_outer\n",
    "df2 = df_app.select(df_app.name, explode_outer(df_app.Appliances))\n",
    "display(df2)"
   ]
  },
  {
   "cell_type": "code",
   "execution_count": 0,
   "metadata": {
    "application/vnd.databricks.v1+cell": {
     "cellMetadata": {
      "byteLimit": 2048000,
      "rowLimit": 10000
     },
     "inputWidgets": {},
     "nuid": "6e24face-5fa5-469a-ae7b-da14c8324ab8",
     "showTitle": false,
     "tableResultSettingsMap": {},
     "title": ""
    }
   },
   "outputs": [],
   "source": [
    "map_brand = [\n",
    "    ('Raja', {'TV': 'LG', 'Refrigerator': 'Samsung', 'Oven': 'Philips', 'AC': 'Voltas'}),\n",
    "    ('Raghav', {'AC': 'Samsung', 'Washing machine': 'LG'}),\n",
    "    ('Ram', {'Grinder': 'Preethi', 'TV': ''}),\n",
    "    ('Ramesh', {'Refrigerator': 'LG', 'TV': 'Croma'}),\n",
    "    ('Rajesh', None)\n",
    "]\n",
    "\n",
    "df_brand = spark.createDataFrame(data=map_brand, schema=['name', 'Brand'])\n",
    "df_brand.printSchema()\n",
    "display(df_brand)"
   ]
  },
  {
   "cell_type": "code",
   "execution_count": 0,
   "metadata": {
    "application/vnd.databricks.v1+cell": {
     "cellMetadata": {
      "byteLimit": 2048000,
      "rowLimit": 10000
     },
     "inputWidgets": {},
     "nuid": "46d278b9-8184-422a-bf74-2b84e361b87e",
     "showTitle": false,
     "tableResultSettingsMap": {},
     "title": ""
    }
   },
   "outputs": [],
   "source": [
    "from pyspark.sql.functions import explode_outer\n",
    "\n",
    "df3 = df_brand.select(df_brand.name, explode_outer(df_brand.Brand))\n",
    "\n",
    "df3.printSchema()\n",
    "display(df3)"
   ]
  },
  {
   "cell_type": "markdown",
   "metadata": {
    "application/vnd.databricks.v1+cell": {
     "cellMetadata": {},
     "inputWidgets": {},
     "nuid": "59876e2d-e0ee-4a19-bce1-9ba517ba0c71",
     "showTitle": false,
     "tableResultSettingsMap": {},
     "title": ""
    }
   },
   "source": [
    "## 4\n",
    ". Positional ![Explode](path)"
   ]
  },
  {
   "cell_type": "code",
   "execution_count": 0,
   "metadata": {
    "application/vnd.databricks.v1+cell": {
     "cellMetadata": {
      "byteLimit": 2048000,
      "rowLimit": 10000
     },
     "inputWidgets": {},
     "nuid": "5a7da25f-88d7-429b-868e-86d7011ec972",
     "showTitle": false,
     "tableResultSettingsMap": {},
     "title": ""
    }
   },
   "outputs": [],
   "source": [
    "from pyspark.sql.functions import posexplode\n",
    "\n",
    "display(df_app.select(df_app.name,posexplode(df_app.Appliances)))\n",
    "\n"
   ]
  },
  {
   "cell_type": "code",
   "execution_count": 0,
   "metadata": {
    "application/vnd.databricks.v1+cell": {
     "cellMetadata": {
      "byteLimit": 2048000,
      "rowLimit": 10000
     },
     "inputWidgets": {},
     "nuid": "d87f5a30-f9be-47cd-80ae-f464493bfc38",
     "showTitle": false,
     "tableResultSettingsMap": {},
     "title": ""
    }
   },
   "outputs": [],
   "source": [
    "display(df_brand.select(df_brand.name,posexplode(df_brand.Brand)))"
   ]
  },
  {
   "cell_type": "markdown",
   "metadata": {
    "application/vnd.databricks.v1+cell": {
     "cellMetadata": {},
     "inputWidgets": {},
     "nuid": "ce01c0f8-35c4-42d8-b2aa-9c8a12875d94",
     "showTitle": false,
     "tableResultSettingsMap": {},
     "title": ""
    }
   },
   "source": [
    "## 5. Pos explode outer"
   ]
  },
  {
   "cell_type": "code",
   "execution_count": 0,
   "metadata": {
    "application/vnd.databricks.v1+cell": {
     "cellMetadata": {
      "byteLimit": 2048000,
      "rowLimit": 10000
     },
     "inputWidgets": {},
     "nuid": "d4a94ed1-9fea-413e-9592-b6586034052a",
     "showTitle": false,
     "tableResultSettingsMap": {},
     "title": ""
    }
   },
   "outputs": [],
   "source": [
    "from pyspark.sql.functions import posexplode_outer\n",
    "\n",
    "display(df_app.select(df_app.name,posexplode_outer(df_app.Appliances)))"
   ]
  },
  {
   "cell_type": "code",
   "execution_count": 0,
   "metadata": {
    "application/vnd.databricks.v1+cell": {
     "cellMetadata": {
      "byteLimit": 2048000,
      "rowLimit": 10000
     },
     "inputWidgets": {},
     "nuid": "8f62fd1a-503c-462f-98e6-93043aedafeb",
     "showTitle": false,
     "tableResultSettingsMap": {},
     "title": ""
    }
   },
   "outputs": [],
   "source": [
    "display(df_brand.select(df_brand.name,posexplode_outer(df_brand.Brand)))"
   ]
  },
  {
   "cell_type": "code",
   "execution_count": 0,
   "metadata": {
    "application/vnd.databricks.v1+cell": {
     "cellMetadata": {},
     "inputWidgets": {},
     "nuid": "24c91db8-49fd-4e0d-9097-4edef3ee3a28",
     "showTitle": false,
     "tableResultSettingsMap": {},
     "title": ""
    }
   },
   "outputs": [],
   "source": []
  }
 ],
 "metadata": {
  "application/vnd.databricks.v1+notebook": {
   "computePreferences": null,
   "dashboards": [],
   "environmentMetadata": {
    "base_environment": "",
    "environment_version": "2"
   },
   "inputWidgetPreferences": null,
   "language": "python",
   "notebookMetadata": {
    "pythonIndentUnit": 4
   },
   "notebookName": "11. explode",
   "widgets": {}
  },
  "language_info": {
   "name": "python"
  }
 },
 "nbformat": 4,
 "nbformat_minor": 0
}
