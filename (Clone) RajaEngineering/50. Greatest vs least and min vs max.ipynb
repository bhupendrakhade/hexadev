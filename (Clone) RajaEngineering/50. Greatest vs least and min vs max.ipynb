{
 "cells": [
  {
   "cell_type": "code",
   "execution_count": 0,
   "metadata": {
    "application/vnd.databricks.v1+cell": {
     "cellMetadata": {
      "byteLimit": 2048000,
      "rowLimit": 10000
     },
     "inputWidgets": {},
     "nuid": "50bfe789-437b-4d27-b686-1b385e5d3c96",
     "showTitle": false,
     "tableResultSettingsMap": {},
     "title": ""
    }
   },
   "outputs": [],
   "source": [
    "input_data = [(\"David\", 70, 68, 89, 40, 84),\n",
    "              (\"Kevin\", 90, 67, 87, 79, 74),\n",
    "              (\"Natalia\", 66, 88, 49, 65, 96),\n",
    "              (\"Roger\", 78, 73, 82, 89, 67),\n",
    "              (\"Michael\", 80, 86, 69, 78, 92)]\n",
    "\n",
    "schema = [\"Student\", \"Subject_1\", \"Subject_2\", \"Subject_3\", \"Subject_4\", \"Subject_5\"]\n",
    "\n",
    "df = spark.createDataFrame(input_data, schema)\n",
    "df.display()"
   ]
  },
  {
   "cell_type": "code",
   "execution_count": 0,
   "metadata": {
    "application/vnd.databricks.v1+cell": {
     "cellMetadata": {
      "byteLimit": 2048000,
      "rowLimit": 10000
     },
     "inputWidgets": {},
     "nuid": "69c127d7-1403-47c2-8a25-ce7001686e31",
     "showTitle": false,
     "tableResultSettingsMap": {},
     "title": ""
    }
   },
   "outputs": [],
   "source": [
    "from pyspark.sql.functions import max\n",
    "max_df = df.agg(max(\"Subject_1\"),max(\"Subject_2\"),max(\"Subject_3\"),max(\"Subject_4\"),max(\"Subject_5\"))\n",
    "display(max_df)"
   ]
  },
  {
   "cell_type": "code",
   "execution_count": 0,
   "metadata": {
    "application/vnd.databricks.v1+cell": {
     "cellMetadata": {
      "byteLimit": 2048000,
      "rowLimit": 10000
     },
     "inputWidgets": {},
     "nuid": "f553379a-d764-4d31-9f74-7322eddf2f6b",
     "showTitle": false,
     "tableResultSettingsMap": {},
     "title": ""
    }
   },
   "outputs": [],
   "source": [
    "from pyspark.sql.functions import min\n",
    "min_df = df.agg(min(\"Subject_1\"),min(\"Subject_2\"),min(\"Subject_3\"),min(\"Subject_4\"),min(\"Subject_5\"))\n",
    "display(min_df)"
   ]
  },
  {
   "cell_type": "code",
   "execution_count": 0,
   "metadata": {
    "application/vnd.databricks.v1+cell": {
     "cellMetadata": {
      "byteLimit": 2048000,
      "rowLimit": 10000
     },
     "inputWidgets": {},
     "nuid": "9a21f284-7613-464e-8cf7-b76ce01927f5",
     "showTitle": false,
     "tableResultSettingsMap": {},
     "title": ""
    }
   },
   "outputs": [],
   "source": [
    "from pyspark.sql.functions import greatest\n",
    "greatest_df = df.withColumn(\"Greatest\", greatest(\"Subject_1\", \"Subject_2\", \"Subject_3\", \"Subject_4\", \"Subject_5\"))\n",
    "display(greatest_df)"
   ]
  },
  {
   "cell_type": "code",
   "execution_count": 0,
   "metadata": {
    "application/vnd.databricks.v1+cell": {
     "cellMetadata": {
      "byteLimit": 2048000,
      "rowLimit": 10000
     },
     "inputWidgets": {},
     "nuid": "12b4e51c-61bd-474b-9575-5e4dea29194c",
     "showTitle": false,
     "tableResultSettingsMap": {},
     "title": ""
    }
   },
   "outputs": [],
   "source": [
    "from pyspark.sql.functions import least\n",
    "least_df = df.withColumn(\"Greatest\", least(\"Subject_1\", \"Subject_2\", \"Subject_3\", \"Subject_4\", \"Subject_5\"))\n",
    "display(least_df)"
   ]
  },
  {
   "cell_type": "code",
   "execution_count": 0,
   "metadata": {
    "application/vnd.databricks.v1+cell": {
     "cellMetadata": {},
     "inputWidgets": {},
     "nuid": "aebc88e9-c7b1-4b33-b2a5-ef4a3fc957ff",
     "showTitle": false,
     "tableResultSettingsMap": {},
     "title": ""
    }
   },
   "outputs": [],
   "source": []
  }
 ],
 "metadata": {
  "application/vnd.databricks.v1+notebook": {
   "computePreferences": null,
   "dashboards": [],
   "environmentMetadata": {
    "base_environment": "",
    "environment_version": "2"
   },
   "inputWidgetPreferences": null,
   "language": "python",
   "notebookMetadata": {
    "pythonIndentUnit": 4
   },
   "notebookName": "50. Greatest vs least and min vs max",
   "widgets": {}
  },
  "language_info": {
   "name": "python"
  }
 },
 "nbformat": 4,
 "nbformat_minor": 0
}
