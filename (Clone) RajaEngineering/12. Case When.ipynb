{
 "cells": [
  {
   "cell_type": "markdown",
   "metadata": {
    "application/vnd.databricks.v1+cell": {
     "cellMetadata": {},
     "inputWidgets": {},
     "nuid": "fe6aef2a-1616-4c2f-ad20-ea5ba32bae62",
     "showTitle": false,
     "tableResultSettingsMap": {},
     "title": ""
    }
   },
   "source": [
    "You are provided with a table named Products containing information about various products, including their names and prices.\n",
    "\n",
    "Write a pyspark code to count number of products in each category based on its price into three categories below. Display the output in descending order of no of products.\n",
    "\n",
    "Price Categories\n",
    "Products are categorized based on their price:\n",
    "\n",
    "**> Low Price: Price less than 100**\n",
    "\n",
    "**> Medium Price: Price between 100 and 500 (inclusive)**\n",
    "\n",
    "**> High Price: Price greater than 500**\n"
   ]
  },
  {
   "cell_type": "code",
   "execution_count": 0,
   "metadata": {
    "application/vnd.databricks.v1+cell": {
     "cellMetadata": {
      "byteLimit": 2048000,
      "rowLimit": 10000
     },
     "inputWidgets": {},
     "nuid": "dfa052e6-7e6c-4969-a2f8-aa5ea91e46e9",
     "showTitle": false,
     "tableResultSettingsMap": {},
     "title": ""
    }
   },
   "outputs": [],
   "source": [
    "from pyspark.sql.types import StructType, StructField, IntegerType, StringType\n",
    "\n",
    "product_schema = StructType([\n",
    "        StructField(\"product_id\", IntegerType(), nullable=False),\n",
    "        StructField(\"product_name\", StringType(), nullable=False),\n",
    "        StructField(\"price\", IntegerType(), nullable=False)\n",
    "    ])\n",
    "\n",
    "    # 2. Create the data for the Products table.\n",
    "product_data = [\n",
    "        (1, \"Laptop\", 800),\n",
    "        (2, \"Smartphone\", 600),\n",
    "        (3, \"Headphones\", 50),\n",
    "        (4, \"Tablet\", 400),\n",
    "        (5, \"Keyboard\", 30),\n",
    "        (6, \"Mouse\", 15),\n",
    "        (7, \"Monitor\", 350),\n",
    "        (8, \"Printer\", 120),\n",
    "        (9, \"USB Drive\", 10),\n",
    "        (10, \"External Hard Drive\", 150),\n",
    "        (11, \"Wireless Router\", 80),\n",
    "        (12, \"Bluetooth Speaker\", 70),\n",
    "        (13, \"Webcam\", 45),\n",
    "        (14, \"Microphone\", 25),\n",
    "        (15, \"Gaming Mouse\", 50)\n",
    "    ]\n",
    "\n",
    "data = spark.createDataFrame(product_data, schema=product_schema)\n",
    "display(data)"
   ]
  },
  {
   "cell_type": "code",
   "execution_count": 0,
   "metadata": {
    "application/vnd.databricks.v1+cell": {
     "cellMetadata": {
      "byteLimit": 2048000,
      "rowLimit": 10000
     },
     "inputWidgets": {},
     "nuid": "7a2365df-23a7-4596-93a4-b839f0e0e07c",
     "showTitle": false,
     "tableResultSettingsMap": {},
     "title": ""
    }
   },
   "outputs": [],
   "source": [
    "from pyspark.sql.functions import when\n",
    "\n",
    "data_with_category = data.withColumn(\"category\",when(data.price < 100,\"Low Price\") \\\n",
    "                                     .when((data.price >= 100) & (data.price < 500),\"Medium Price\") \\\n",
    "                                     .otherwise(\"High Price\"))\n",
    "\n",
    "display(data_with_category)"
   ]
  },
  {
   "cell_type": "code",
   "execution_count": 0,
   "metadata": {
    "application/vnd.databricks.v1+cell": {
     "cellMetadata": {
      "byteLimit": 2048000,
      "rowLimit": 10000
     },
     "inputWidgets": {},
     "nuid": "0fafb709-4886-4432-8638-ae0fc1a8f7b1",
     "showTitle": false,
     "tableResultSettingsMap": {},
     "title": ""
    }
   },
   "outputs": [],
   "source": [
    "from pyspark.sql.functions import expr\n",
    "data.withColumn(\"category\",when(\"price < 100\",\"low\").otherwise(\"high\")).show()"
   ]
  },
  {
   "cell_type": "code",
   "execution_count": 0,
   "metadata": {
    "application/vnd.databricks.v1+cell": {
     "cellMetadata": {
      "byteLimit": 2048000,
      "rowLimit": 10000
     },
     "inputWidgets": {},
     "nuid": "8857b346-0d68-400b-ade0-2d21f86e10eb",
     "showTitle": false,
     "tableResultSettingsMap": {},
     "title": ""
    }
   },
   "outputs": [],
   "source": [
    "from pyspark.sql.functions import expr\n",
    "data.withColumn(\"category\",when(expr(\"price < 100\"),\"low\").otherwise(\"high\")).show()"
   ]
  },
  {
   "cell_type": "code",
   "execution_count": 0,
   "metadata": {
    "application/vnd.databricks.v1+cell": {
     "cellMetadata": {
      "byteLimit": 2048000,
      "rowLimit": 10000
     },
     "inputWidgets": {},
     "nuid": "487ce96a-9454-458d-b640-95f10fcedd82",
     "showTitle": false,
     "tableResultSettingsMap": {},
     "title": ""
    }
   },
   "outputs": [],
   "source": [
    "data.where(\"price < 100\").show()"
   ]
  },
  {
   "cell_type": "code",
   "execution_count": 0,
   "metadata": {
    "application/vnd.databricks.v1+cell": {
     "cellMetadata": {},
     "inputWidgets": {},
     "nuid": "dd68b0f4-912e-4488-99bf-bf8642ac2cb4",
     "showTitle": false,
     "tableResultSettingsMap": {},
     "title": ""
    }
   },
   "outputs": [],
   "source": []
  }
 ],
 "metadata": {
  "application/vnd.databricks.v1+notebook": {
   "computePreferences": null,
   "dashboards": [],
   "environmentMetadata": {
    "base_environment": "",
    "environment_version": "2"
   },
   "inputWidgetPreferences": null,
   "language": "python",
   "notebookMetadata": {
    "pythonIndentUnit": 4
   },
   "notebookName": "12. Case When",
   "widgets": {}
  },
  "language_info": {
   "name": "python"
  }
 },
 "nbformat": 4,
 "nbformat_minor": 0
}
