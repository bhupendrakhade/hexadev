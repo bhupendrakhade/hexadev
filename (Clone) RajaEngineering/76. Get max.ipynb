{
 "cells": [
  {
   "cell_type": "markdown",
   "metadata": {
    "application/vnd.databricks.v1+cell": {
     "cellMetadata": {},
     "inputWidgets": {},
     "nuid": "4f7bfa60-424f-4a1a-8b78-28ee430400af",
     "showTitle": false,
     "tableResultSettingsMap": {},
     "title": ""
    }
   },
   "source": [
    "## Q. Get max values across duplicates and remove duplicates"
   ]
  },
  {
   "cell_type": "code",
   "execution_count": 0,
   "metadata": {
    "application/vnd.databricks.v1+cell": {
     "cellMetadata": {
      "byteLimit": 2048000,
      "rowLimit": 10000
     },
     "inputWidgets": {},
     "nuid": "0ea11ef3-b363-4205-9868-53b76080f089",
     "showTitle": false,
     "tableResultSettingsMap": {},
     "title": ""
    }
   },
   "outputs": [],
   "source": [
    "simpleData = ((100, \"Mobile\", 5000, 10), \\\n",
    "              (100, \"Mobile\", 7000, 7), \\\n",
    "              (200, \"Laptop\", 20000, 4), \\\n",
    "              (200, \"Laptop\", 25000, 8), \\\n",
    "              (200, \"Laptop\", 22000, 12))\n",
    "\n",
    "from pyspark.sql.types import StructType, StructField, StringType, IntegerType\n",
    "\n",
    "defSchema = StructType([ \\\n",
    "    StructField(\"Product_id\", IntegerType(), False), \\\n",
    "    StructField(\"Product_name\", StringType(), True), \\\n",
    "    StructField(\"Price\", IntegerType(), True), \\\n",
    "    StructField(\"DiscountPercent\", IntegerType(), True) \\\n",
    "])\n",
    "\n",
    "df = spark.createDataFrame(data=simpleData, schema=defSchema)\n",
    "display(df)"
   ]
  },
  {
   "cell_type": "code",
   "execution_count": 0,
   "metadata": {
    "application/vnd.databricks.v1+cell": {
     "cellMetadata": {
      "byteLimit": 2048000,
      "rowLimit": 10000
     },
     "inputWidgets": {},
     "nuid": "d35520ca-a507-45ee-8969-60dc4df7706f",
     "showTitle": false,
     "tableResultSettingsMap": {},
     "title": ""
    }
   },
   "outputs": [],
   "source": [
    "from pyspark.sql.functions import max\n",
    "result = df.groupBy(\"Product_id\",\"Product_name\").agg(max(\"Price\").alias(\"Price\"),max(\"DiscountPercent\").alias(\"DiscountPercent\"))\n",
    "\n",
    "display(result)"
   ]
  },
  {
   "cell_type": "code",
   "execution_count": 0,
   "metadata": {
    "application/vnd.databricks.v1+cell": {
     "cellMetadata": {},
     "inputWidgets": {},
     "nuid": "babf0e80-8498-41c2-aa7f-c962779d6943",
     "showTitle": false,
     "tableResultSettingsMap": {},
     "title": ""
    }
   },
   "outputs": [],
   "source": []
  }
 ],
 "metadata": {
  "application/vnd.databricks.v1+notebook": {
   "computePreferences": null,
   "dashboards": [],
   "environmentMetadata": {
    "base_environment": "",
    "environment_version": "2"
   },
   "inputWidgetPreferences": null,
   "language": "python",
   "notebookMetadata": {
    "pythonIndentUnit": 4
   },
   "notebookName": "76. Get max",
   "widgets": {}
  },
  "language_info": {
   "name": "python"
  }
 },
 "nbformat": 4,
 "nbformat_minor": 0
}
