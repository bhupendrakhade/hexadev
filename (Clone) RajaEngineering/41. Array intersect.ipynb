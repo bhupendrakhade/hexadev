{
 "cells": [
  {
   "cell_type": "code",
   "execution_count": 0,
   "metadata": {
    "application/vnd.databricks.v1+cell": {
     "cellMetadata": {
      "byteLimit": 2048000,
      "rowLimit": 10000
     },
     "inputWidgets": {},
     "nuid": "5289dad3-27a4-4f93-8924-1f838c1641b7",
     "showTitle": false,
     "tableResultSettingsMap": {},
     "title": ""
    }
   },
   "outputs": [],
   "source": [
    "empDF = [\n",
    "    ('John', [4, 6, 7, 9, 2], [1, 2, 3, 7, 7]),\n",
    "    ('David', [7, 5, 1, 4, 7, 1], [3, 2, 8, 9, 4, 9]),\n",
    "    ('Mike', [3, 9, 1, 6, 2], [1, 2, 3, 5, 8])\n",
    "]\n",
    "\n",
    "df = spark.createDataFrame(data=empDF, schema = ['Name', 'Array_1', 'Array_2'])\n",
    "display(df)"
   ]
  },
  {
   "cell_type": "code",
   "execution_count": 0,
   "metadata": {
    "application/vnd.databricks.v1+cell": {
     "cellMetadata": {
      "byteLimit": 2048000,
      "rowLimit": 10000
     },
     "inputWidgets": {},
     "nuid": "e64ca1db-a2cd-4749-a678-2304a869897c",
     "showTitle": false,
     "tableResultSettingsMap": {},
     "title": ""
    }
   },
   "outputs": [],
   "source": [
    "from pyspark.sql.functions import array_intersect\n",
    "df = df.select(\"Name\",\"Array_1\",\"Array_2\",array_intersect(\"Array_1\", \"Array_2\"))\n",
    "# or df = df.withColumn(\"Array_intersected\", array_intersect(\"Array_1\", \"Array_2\"))\n",
    "display(df)"
   ]
  },
  {
   "cell_type": "code",
   "execution_count": 0,
   "metadata": {
    "application/vnd.databricks.v1+cell": {
     "cellMetadata": {},
     "inputWidgets": {},
     "nuid": "e4fd3371-898c-4819-a762-7a2e38d9c1db",
     "showTitle": false,
     "tableResultSettingsMap": {},
     "title": ""
    }
   },
   "outputs": [],
   "source": []
  }
 ],
 "metadata": {
  "application/vnd.databricks.v1+notebook": {
   "computePreferences": {
    "hardware": {
     "accelerator": null,
     "gpuPoolId": null,
     "memory": null
    }
   },
   "dashboards": [],
   "environmentMetadata": {
    "base_environment": "",
    "environment_version": "2"
   },
   "inputWidgetPreferences": null,
   "language": "python",
   "notebookMetadata": {
    "pythonIndentUnit": 4
   },
   "notebookName": "41. Array intersect",
   "widgets": {}
  },
  "language_info": {
   "name": "python"
  }
 },
 "nbformat": 4,
 "nbformat_minor": 0
}
