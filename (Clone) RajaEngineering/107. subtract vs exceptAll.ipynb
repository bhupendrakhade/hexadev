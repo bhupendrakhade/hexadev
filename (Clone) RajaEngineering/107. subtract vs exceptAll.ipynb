{
 "cells": [
  {
   "cell_type": "code",
   "execution_count": 0,
   "metadata": {
    "application/vnd.databricks.v1+cell": {
     "cellMetadata": {
      "byteLimit": 2048000,
      "rowLimit": 10000
     },
     "inputWidgets": {},
     "nuid": "45ff1df4-73c0-4fa8-907d-bb98dc9baab2",
     "showTitle": false,
     "tableResultSettingsMap": {},
     "title": ""
    }
   },
   "outputs": [],
   "source": [
    "# Sample sales data\n",
    "data1 = [\n",
    "    (\"Product A\", 100),\n",
    "    (\"Product B\", 50),\n",
    "    (\"Product C\", 200),\n",
    "    (\"Product C\", 200),\n",
    "    (\"Product C\", 200),\n",
    "    (\"Product D\", 150)\n",
    "]\n",
    "\n",
    "data2 = [\n",
    "    (\"Product A\", 100),\n",
    "    (\"Product B\", 30),\n",
    "    (\"Product C\", 200),\n",
    "    (\"Product E\", 80)\n",
    "]\n",
    "\n",
    "# Create DataFrames from the sample data\n",
    "sourceDF = spark.createDataFrame(data1, [\"Product\", \"Quantity\"])\n",
    "targetDF = spark.createDataFrame(data2, [\"Product\", \"Quantity\"])"
   ]
  },
  {
   "cell_type": "code",
   "execution_count": 0,
   "metadata": {
    "application/vnd.databricks.v1+cell": {
     "cellMetadata": {
      "byteLimit": 2048000,
      "rowLimit": 10000
     },
     "inputWidgets": {},
     "nuid": "dde07e9e-e9d1-46d2-a3df-73c0c36ab2a8",
     "showTitle": false,
     "tableResultSettingsMap": {},
     "title": ""
    }
   },
   "outputs": [],
   "source": [
    "display(sourceDF)\n",
    "display(targetDF)"
   ]
  },
  {
   "cell_type": "code",
   "execution_count": 0,
   "metadata": {
    "application/vnd.databricks.v1+cell": {
     "cellMetadata": {
      "byteLimit": 2048000,
      "rowLimit": 10000
     },
     "inputWidgets": {},
     "nuid": "90f61ca4-a613-4b6d-8345-1ff078ce0b55",
     "showTitle": false,
     "tableResultSettingsMap": {},
     "title": ""
    }
   },
   "outputs": [],
   "source": [
    "resultDF = sourceDF.subtract(targetDF)\n",
    "display(resultDF)"
   ]
  },
  {
   "cell_type": "code",
   "execution_count": 0,
   "metadata": {
    "application/vnd.databricks.v1+cell": {
     "cellMetadata": {
      "byteLimit": 2048000,
      "rowLimit": 10000
     },
     "inputWidgets": {},
     "nuid": "dc6a4d6c-72ba-44be-bdb0-30bbaad1cd09",
     "showTitle": false,
     "tableResultSettingsMap": {},
     "title": ""
    }
   },
   "outputs": [],
   "source": [
    "resultDF_with_dups = sourceDF.exceptAll(targetDF)\n",
    "display(resultDF_with_dups)"
   ]
  },
  {
   "cell_type": "code",
   "execution_count": 0,
   "metadata": {
    "application/vnd.databricks.v1+cell": {
     "cellMetadata": {
      "byteLimit": 2048000,
      "rowLimit": 10000
     },
     "inputWidgets": {},
     "nuid": "20c05c58-a11c-43be-bb84-abdf8ba7c39e",
     "showTitle": false,
     "tableResultSettingsMap": {},
     "title": ""
    }
   },
   "outputs": [],
   "source": [
    "# Sample sales data\n",
    "data1 = [\n",
    "    (\"Product A\", 100),\n",
    "    (\"Product B\", 50),\n",
    "    (\"Product C\", 200),\n",
    "    (\"Product C\", 200),\n",
    "    (\"Product C\", 200),\n",
    "    (\"Product D\", 150)\n",
    "]\n",
    "\n",
    "data2 = [\n",
    "    (\"Product A\", 100,\"HR\"),\n",
    "    (\"Product B\", 30,\"FN\"),\n",
    "    (\"Product C\", 200,\"HR\"),\n",
    "    (\"Product E\", 80,\"FIN\")\n",
    "]\n",
    "\n",
    "# Create DataFrames from the sample data\n",
    "sourceDF = spark.createDataFrame(data1, [\"Product\", \"Quantity\"])\n",
    "targetDF = spark.createDataFrame(data2, [\"Product\", \"Quantity\",\"DEPT\"])"
   ]
  },
  {
   "cell_type": "code",
   "execution_count": 0,
   "metadata": {
    "application/vnd.databricks.v1+cell": {
     "cellMetadata": {
      "byteLimit": 2048000,
      "rowLimit": 10000
     },
     "inputWidgets": {},
     "nuid": "1559f9b6-3b8b-4fd6-9220-f3d9fbd02827",
     "showTitle": false,
     "tableResultSettingsMap": {},
     "title": ""
    }
   },
   "outputs": [],
   "source": [
    "display(sourceDF)\n",
    "display(targetDF)"
   ]
  },
  {
   "cell_type": "code",
   "execution_count": 0,
   "metadata": {
    "application/vnd.databricks.v1+cell": {
     "cellMetadata": {
      "byteLimit": 2048000,
      "rowLimit": 10000
     },
     "inputWidgets": {},
     "nuid": "ca062181-fc9e-4aaa-bd13-c87cfb64f611",
     "showTitle": false,
     "tableResultSettingsMap": {},
     "title": ""
    }
   },
   "outputs": [],
   "source": [
    "resultDF = sourceDF.subtract(targetDF)\n",
    "display(resultDF)"
   ]
  },
  {
   "cell_type": "code",
   "execution_count": 0,
   "metadata": {
    "application/vnd.databricks.v1+cell": {
     "cellMetadata": {
      "byteLimit": 2048000,
      "rowLimit": 10000
     },
     "inputWidgets": {},
     "nuid": "7e360b8f-e931-416e-a704-cf966cb588ec",
     "showTitle": false,
     "tableResultSettingsMap": {},
     "title": ""
    }
   },
   "outputs": [],
   "source": [
    "# Sample sales data\n",
    "data1 = [\n",
    "    (\"Product A\", 100),\n",
    "    (\"Product B\", 50),\n",
    "    (\"Product C\", 200),\n",
    "    (\"Product C\", 200),\n",
    "    (\"Product C\", 200),\n",
    "    (\"Product D\", 150)\n",
    "]\n",
    "\n",
    "data2 = [\n",
    "    (\"Product A\", \"100\"),\n",
    "    (\"Product B\", \"30\"),\n",
    "    (\"Product C\", \"200\"),\n",
    "    (\"Product E\", \"80\")\n",
    "]\n",
    "\n",
    "# Create DataFrames from the sample data\n",
    "sourceDF = spark.createDataFrame(data1, [\"Product\", \"Quantity\"])\n",
    "targetDF = spark.createDataFrame(data2, [\"Product\", \"Quantity\"])"
   ]
  },
  {
   "cell_type": "code",
   "execution_count": 0,
   "metadata": {
    "application/vnd.databricks.v1+cell": {
     "cellMetadata": {
      "byteLimit": 2048000,
      "rowLimit": 10000
     },
     "inputWidgets": {},
     "nuid": "d6f6074a-a73c-43c5-8747-f4e8bb916f4d",
     "showTitle": false,
     "tableResultSettingsMap": {},
     "title": ""
    }
   },
   "outputs": [],
   "source": [
    "display(sourceDF)\n",
    "display(targetDF)"
   ]
  },
  {
   "cell_type": "code",
   "execution_count": 0,
   "metadata": {
    "application/vnd.databricks.v1+cell": {
     "cellMetadata": {
      "byteLimit": 2048000,
      "rowLimit": 10000
     },
     "inputWidgets": {},
     "nuid": "dd4c1912-812c-4845-8168-cc290754f894",
     "showTitle": false,
     "tableResultSettingsMap": {},
     "title": ""
    }
   },
   "outputs": [],
   "source": [
    "resultDF = targetDF.exceptAll(sourceDF)\n",
    "display(resultDF)"
   ]
  },
  {
   "cell_type": "code",
   "execution_count": 0,
   "metadata": {
    "application/vnd.databricks.v1+cell": {
     "cellMetadata": {},
     "inputWidgets": {},
     "nuid": "6bc7f89a-f49f-4512-bce1-a8f83a1eaa0a",
     "showTitle": false,
     "tableResultSettingsMap": {},
     "title": ""
    }
   },
   "outputs": [],
   "source": []
  }
 ],
 "metadata": {
  "application/vnd.databricks.v1+notebook": {
   "computePreferences": null,
   "dashboards": [],
   "environmentMetadata": {
    "base_environment": "",
    "environment_version": "2"
   },
   "inputWidgetPreferences": null,
   "language": "python",
   "notebookMetadata": {
    "pythonIndentUnit": 4
   },
   "notebookName": "107. subtract vs exceptAll",
   "widgets": {}
  },
  "language_info": {
   "name": "python"
  }
 },
 "nbformat": 4,
 "nbformat_minor": 0
}
