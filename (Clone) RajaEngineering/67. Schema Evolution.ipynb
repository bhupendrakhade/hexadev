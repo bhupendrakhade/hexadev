{
 "cells": [
  {
   "cell_type": "code",
   "execution_count": 0,
   "metadata": {
    "application/vnd.databricks.v1+cell": {
     "cellMetadata": {
      "byteLimit": 2048000,
      "rowLimit": 10000
     },
     "inputWidgets": {},
     "nuid": "d16a9b1f-b4be-4ebf-ae17-209533a3d46c",
     "showTitle": false,
     "tableResultSettingsMap": {},
     "title": ""
    }
   },
   "outputs": [],
   "source": [
    "from delta.tables import *\n",
    "\n",
    "# Create external Delta Table\n",
    "DeltaTable.create(spark) \\\n",
    "  .tableName(\"dev_bronze.test_schma_tmp.employee_demo\") \\\n",
    "  .addColumn(\"emp_id\", \"INT\") \\\n",
    "  .addColumn(\"emp_name\", \"STRING\") \\\n",
    "  .addColumn(\"gender\", \"STRING\") \\\n",
    "  .addColumn(\"salary\", \"INT\") \\\n",
    "  .addColumn(\"Dept\", \"STRING\") \\\n",
    "  .property(\"description\", \"table created for demo purpose\") \\\n",
    "  .location(\"gs://up-data-quality-framework-dev-rotw/reference_tables/employee_demo\") \\\n",
    "  .execute()\n"
   ]
  },
  {
   "cell_type": "code",
   "execution_count": 0,
   "metadata": {
    "application/vnd.databricks.v1+cell": {
     "cellMetadata": {
      "byteLimit": 2048000,
      "implicitDf": true,
      "rowLimit": 10000
     },
     "inputWidgets": {},
     "nuid": "26b035fd-494b-4ef5-aba0-82ba6cb1a6db",
     "showTitle": false,
     "tableResultSettingsMap": {},
     "title": ""
    }
   },
   "outputs": [],
   "source": [
    "%sql\n",
    "insert into dev_bronze.test_schma_tmp.employee_demo values(100, \"Stephen\", \"M\", 2000, \"IT\");\n",
    "select * from dev_bronze.test_schma_tmp.employee_demo;"
   ]
  },
  {
   "cell_type": "code",
   "execution_count": 0,
   "metadata": {
    "application/vnd.databricks.v1+cell": {
     "cellMetadata": {
      "byteLimit": 2048000,
      "rowLimit": 10000
     },
     "inputWidgets": {},
     "nuid": "cba35506-4d7f-4cf0-806d-c291f74702dc",
     "showTitle": false,
     "tableResultSettingsMap": {},
     "title": ""
    }
   },
   "outputs": [],
   "source": [
    "from pyspark.sql.types import IntegerType,StringType\n",
    "employee_data = [(200,\"Philipp\",\"M\",8000,\"HR\",\"test data\")]\n",
    "\n",
    "employee_schema = StructType([ \\\n",
    "  StructField(\"emp_id\",IntegerType(),False), \\\n",
    "  StructField(\"emp_name\",StringType(),True), \\\n",
    "  StructField(\"gender\",StringType(),True), \\\n",
    "  StructField(\"salary\",IntegerType(),True), \\\n",
    "  StructField(\"dept\",StringType(),True), \\\n",
    "  StructField(\"additionalcolumn1\",StringType(),True) \\\n",
    "])\n",
    "\n",
    "df = spark.createDataFrame(data=employee_data, schema = employee_schema)\n",
    "\n",
    "display(df)"
   ]
  },
  {
   "cell_type": "code",
   "execution_count": 0,
   "metadata": {
    "application/vnd.databricks.v1+cell": {
     "cellMetadata": {
      "byteLimit": 2048000,
      "rowLimit": 10000
     },
     "inputWidgets": {},
     "nuid": "b1df1335-9951-4a91-8ea6-4c222f0e24d2",
     "showTitle": false,
     "tableResultSettingsMap": {},
     "title": ""
    }
   },
   "outputs": [],
   "source": [
    "df.write.format(\"delta\").mode(\"append\").saveAsTable(\"dev_bronze.test_schma_tmp.employee_demo\")"
   ]
  },
  {
   "cell_type": "code",
   "execution_count": 0,
   "metadata": {
    "application/vnd.databricks.v1+cell": {
     "cellMetadata": {
      "byteLimit": 2048000,
      "rowLimit": 10000
     },
     "inputWidgets": {},
     "nuid": "09f998ad-4f74-4422-a5bb-45f4b2ab847c",
     "showTitle": false,
     "tableResultSettingsMap": {},
     "title": ""
    }
   },
   "outputs": [],
   "source": [
    "df.write.option(\"mergeSchema\", \"true\").format(\"delta\").mode(\"append\").saveAsTable(\"dev_bronze.test_schma_tmp.employee_demo\")"
   ]
  },
  {
   "cell_type": "code",
   "execution_count": 0,
   "metadata": {
    "application/vnd.databricks.v1+cell": {
     "cellMetadata": {
      "byteLimit": 2048000,
      "implicitDf": true,
      "rowLimit": 10000
     },
     "inputWidgets": {},
     "nuid": "72ce9c66-65a3-48f4-a5b9-6cfa4fff812b",
     "showTitle": false,
     "tableResultSettingsMap": {},
     "title": ""
    }
   },
   "outputs": [],
   "source": [
    "%sql\n",
    "select * from dev_bronze.test_schma_tmp.employee_demo;"
   ]
  },
  {
   "cell_type": "code",
   "execution_count": 0,
   "metadata": {
    "application/vnd.databricks.v1+cell": {
     "cellMetadata": {
      "byteLimit": 2048000,
      "rowLimit": 10000
     },
     "inputWidgets": {},
     "nuid": "5e9ff2d1-6e39-4689-8202-607b9841c06b",
     "showTitle": false,
     "tableResultSettingsMap": {},
     "title": ""
    }
   },
   "outputs": [],
   "source": [
    "from pyspark.sql.types import IntegerType,StringType\n",
    "employee_data = [(200,\"Philipp\",\"M\",8000,10)]\n",
    "\n",
    "employee_schema = StructType([ \\\n",
    "  StructField(\"emp_id\",IntegerType(),False), \\\n",
    "  StructField(\"emp_name\",StringType(),True), \\\n",
    "  StructField(\"gender\",StringType(),True), \\\n",
    "  StructField(\"salary\",IntegerType(),True), \\\n",
    "  StructField(\"dept\",IntegerType(),True), \\\n",
    "])\n",
    "\n",
    "df = spark.createDataFrame(data=employee_data, schema = employee_schema)\n",
    "\n",
    "display(df)"
   ]
  },
  {
   "cell_type": "code",
   "execution_count": 0,
   "metadata": {
    "application/vnd.databricks.v1+cell": {
     "cellMetadata": {
      "byteLimit": 2048000,
      "rowLimit": 10000
     },
     "inputWidgets": {},
     "nuid": "3035e05f-014b-4310-ab9d-80baec479044",
     "showTitle": false,
     "tableResultSettingsMap": {},
     "title": ""
    }
   },
   "outputs": [],
   "source": [
    "df.write.format(\"delta\").mode(\"append\").saveAsTable(\"dev_bronze.test_schma_tmp.employee_demo\")"
   ]
  },
  {
   "cell_type": "code",
   "execution_count": 0,
   "metadata": {
    "application/vnd.databricks.v1+cell": {
     "cellMetadata": {
      "byteLimit": 2048000,
      "rowLimit": 10000
     },
     "inputWidgets": {},
     "nuid": "35bd2a9c-372a-4f11-9f88-d28431168152",
     "showTitle": false,
     "tableResultSettingsMap": {},
     "title": ""
    }
   },
   "outputs": [],
   "source": [
    "df.write.option(\"mergeSchema\", \"true\").format(\"delta\").mode(\"append\").saveAsTable(\"dev_bronze.test_schma_tmp.employee_demo\")"
   ]
  },
  {
   "cell_type": "code",
   "execution_count": 0,
   "metadata": {
    "application/vnd.databricks.v1+cell": {
     "cellMetadata": {
      "byteLimit": 2048000,
      "rowLimit": 10000
     },
     "inputWidgets": {},
     "nuid": "ae997bce-a69e-47e8-a5d3-56733cd1a4e0",
     "showTitle": false,
     "tableResultSettingsMap": {},
     "title": ""
    }
   },
   "outputs": [],
   "source": [
    "from pyspark.sql.types import IntegerType,StringType\n",
    "employee_data = [(200,\"Philipp\",\"M\",\"HR\")]\n",
    "\n",
    "employee_schema = StructType([ \\\n",
    "  StructField(\"emp_id\",IntegerType(),False), \\\n",
    "  StructField(\"emp_name\",StringType(),True), \\\n",
    "  StructField(\"gender\",StringType(),True), \\\n",
    "  StructField(\"dept\",StringType(),True), \\\n",
    "])\n",
    "\n",
    "df = spark.createDataFrame(data=employee_data, schema = employee_schema)\n",
    "\n",
    "display(df)"
   ]
  },
  {
   "cell_type": "code",
   "execution_count": 0,
   "metadata": {
    "application/vnd.databricks.v1+cell": {
     "cellMetadata": {
      "byteLimit": 2048000,
      "rowLimit": 10000
     },
     "inputWidgets": {},
     "nuid": "b8084cb0-f1a8-45bf-a66c-da05acc5daea",
     "showTitle": false,
     "tableResultSettingsMap": {},
     "title": ""
    }
   },
   "outputs": [],
   "source": [
    "df.write.format(\"delta\").mode(\"append\").saveAsTable(\"dev_bronze.test_schma_tmp.employee_demo\")"
   ]
  },
  {
   "cell_type": "code",
   "execution_count": 0,
   "metadata": {
    "application/vnd.databricks.v1+cell": {
     "cellMetadata": {
      "byteLimit": 2048000,
      "rowLimit": 10000
     },
     "inputWidgets": {},
     "nuid": "c11af413-53bd-4124-9218-e824b1249bc1",
     "showTitle": false,
     "tableResultSettingsMap": {},
     "title": ""
    }
   },
   "outputs": [],
   "source": [
    "df.write.option(\"mergeSchema\", \"true\").format(\"delta\").mode(\"append\").saveAsTable(\"dev_bronze.test_schma_tmp.employee_demo\")"
   ]
  },
  {
   "cell_type": "code",
   "execution_count": 0,
   "metadata": {
    "application/vnd.databricks.v1+cell": {
     "cellMetadata": {
      "byteLimit": 2048000,
      "implicitDf": true,
      "rowLimit": 10000
     },
     "inputWidgets": {},
     "nuid": "05bedf57-f92c-46b0-a1b0-db9728f214dc",
     "showTitle": false,
     "tableResultSettingsMap": {},
     "title": ""
    }
   },
   "outputs": [],
   "source": [
    "%sql\n",
    "select * from dev_bronze.test_schma_tmp.employee_demo;"
   ]
  },
  {
   "cell_type": "code",
   "execution_count": 0,
   "metadata": {
    "application/vnd.databricks.v1+cell": {
     "cellMetadata": {
      "byteLimit": 2048000,
      "implicitDf": true,
      "rowLimit": 10000
     },
     "inputWidgets": {},
     "nuid": "123ccfe7-e084-43f0-af27-43930e41e69e",
     "showTitle": false,
     "tableResultSettingsMap": {},
     "title": ""
    }
   },
   "outputs": [],
   "source": [
    "%sql\n",
    "delete from dev_bronze.test_schma_tmp.employee_demo where salary is null;"
   ]
  },
  {
   "cell_type": "code",
   "execution_count": 0,
   "metadata": {
    "application/vnd.databricks.v1+cell": {
     "cellMetadata": {
      "byteLimit": 2048000,
      "rowLimit": 10000
     },
     "inputWidgets": {},
     "nuid": "fa4920eb-7ad0-4637-8b55-039dfc815d63",
     "showTitle": false,
     "tableResultSettingsMap": {},
     "title": ""
    }
   },
   "outputs": [],
   "source": [
    "from pyspark.sql.types import IntegerType,StringType\n",
    "employee_data = [(\"Philipp\",\"M\",8000,\"HR\",\"test data\")]\n",
    "\n",
    "employee_schema = StructType([ \\\n",
    "  StructField(\"emp_name\",StringType(),True), \\\n",
    "  StructField(\"gender\",StringType(),True), \\\n",
    "  StructField(\"salary\",IntegerType(),True), \\\n",
    "  StructField(\"dept\",StringType(),True), \\\n",
    "  StructField(\"additionalcolumn1\",StringType(),True) \\\n",
    "])\n",
    "\n",
    "df = spark.createDataFrame(data=employee_data, schema = employee_schema)\n",
    "\n",
    "display(df)"
   ]
  },
  {
   "cell_type": "code",
   "execution_count": 0,
   "metadata": {
    "application/vnd.databricks.v1+cell": {
     "cellMetadata": {
      "byteLimit": 2048000,
      "rowLimit": 10000
     },
     "inputWidgets": {},
     "nuid": "678e9cf4-635f-4ef7-a901-6205ad12361c",
     "showTitle": false,
     "tableResultSettingsMap": {},
     "title": ""
    }
   },
   "outputs": [],
   "source": [
    "df.write.format(\"delta\").mode(\"append\").saveAsTable(\"dev_bronze.test_schma_tmp.employee_demo\")"
   ]
  },
  {
   "cell_type": "code",
   "execution_count": 0,
   "metadata": {
    "application/vnd.databricks.v1+cell": {
     "cellMetadata": {},
     "inputWidgets": {},
     "nuid": "eab3e841-db53-4906-b618-021cd52875e5",
     "showTitle": false,
     "tableResultSettingsMap": {},
     "title": ""
    }
   },
   "outputs": [],
   "source": []
  }
 ],
 "metadata": {
  "application/vnd.databricks.v1+notebook": {
   "computePreferences": null,
   "dashboards": [],
   "environmentMetadata": {
    "base_environment": "",
    "environment_version": "2"
   },
   "inputWidgetPreferences": null,
   "language": "python",
   "notebookMetadata": {
    "mostRecentlyExecutedCommandWithImplicitDF": {
     "commandId": 7535364409224602,
     "dataframes": [
      "_sqldf"
     ]
    },
    "pythonIndentUnit": 4
   },
   "notebookName": "67. Schema Evolution",
   "widgets": {}
  },
  "language_info": {
   "name": "python"
  }
 },
 "nbformat": 4,
 "nbformat_minor": 0
}
