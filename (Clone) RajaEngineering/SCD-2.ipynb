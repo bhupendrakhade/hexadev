{
 "cells": [
  {
   "cell_type": "code",
   "execution_count": 0,
   "metadata": {
    "application/vnd.databricks.v1+cell": {
     "cellMetadata": {
      "byteLimit": 2048000,
      "implicitDf": true,
      "rowLimit": 10000
     },
     "inputWidgets": {},
     "nuid": "9827170a-62d4-41ff-861f-0441b6cc10d9",
     "showTitle": false,
     "tableResultSettingsMap": {},
     "title": ""
    }
   },
   "outputs": [],
   "source": [
    "%sql\n",
    "CREATE OR REPLACE TABLE dev_bronze.test_schma_tmp.scd2Demo (\n",
    "  pk1 INT,\n",
    "  pk2 STRING,\n",
    "  dim1 INT,\n",
    "  dim2 INT,\n",
    "  dim3 INT,\n",
    "  dim4 INT,\n",
    "  active_status STRING,\n",
    "  start_date TIMESTAMP,\n",
    "  end_date TIMESTAMP\n",
    ")\n",
    "USING DELTA"
   ]
  },
  {
   "cell_type": "code",
   "execution_count": 0,
   "metadata": {
    "application/vnd.databricks.v1+cell": {
     "cellMetadata": {
      "byteLimit": 2048000,
      "implicitDf": true,
      "rowLimit": 10000
     },
     "inputWidgets": {},
     "nuid": "ca8c23de-3e86-4d2e-81bf-50159fa6a705",
     "showTitle": false,
     "tableResultSettingsMap": {},
     "title": ""
    }
   },
   "outputs": [],
   "source": [
    "%sql\n",
    "insert into dev_bronze.test_schma_tmp.scd2Demo values (111,'Unit1', 200,500,800,400,'Y', current_timestamp(),'9999-12-31');\n",
    "insert into dev_bronze.test_schma_tmp.scd2Demo values (222,'Unit2', 900,Null,700,100,'Y', current_timestamp(),'9999-12-31');\n",
    "insert into dev_bronze.test_schma_tmp.scd2Demo values (333,'Unit3', 300,900,250,650,'Y', current_timestamp(),'9999-12-31');"
   ]
  },
  {
   "cell_type": "code",
   "execution_count": 0,
   "metadata": {
    "application/vnd.databricks.v1+cell": {
     "cellMetadata": {
      "byteLimit": 2048000,
      "rowLimit": 10000
     },
     "inputWidgets": {},
     "nuid": "3a68c84d-de56-4e28-b53e-39ffef608d3b",
     "showTitle": false,
     "tableResultSettingsMap": {},
     "title": ""
    }
   },
   "outputs": [],
   "source": [
    "from delta import DeltaTable\n",
    "target_table_delta = DeltaTable.forName(spark,\"dev_bronze.test_schma_tmp.scd2Demo\")\n",
    "target_table = target_table_delta.toDF()\n",
    "display(target_table)"
   ]
  },
  {
   "cell_type": "code",
   "execution_count": 0,
   "metadata": {
    "application/vnd.databricks.v1+cell": {
     "cellMetadata": {
      "byteLimit": 2048000,
      "rowLimit": 10000
     },
     "inputWidgets": {},
     "nuid": "09807c8f-2714-46e5-9d64-d9c8d9e67734",
     "showTitle": false,
     "tableResultSettingsMap": {},
     "title": ""
    }
   },
   "outputs": [],
   "source": [
    "from pyspark.sql.types import *\n",
    "from pyspark.sql.functions import *\n",
    "\n",
    "schema = StructType([\n",
    "    StructField(\"pk1\", StringType(), True),\n",
    "    StructField(\"pk2\", StringType(), True),\n",
    "    StructField(\"dim1\", IntegerType(), True),\n",
    "    StructField(\"dim2\", IntegerType(), True),\n",
    "    StructField(\"dim3\", IntegerType(), True),\n",
    "    StructField(\"dim4\", IntegerType(), True)\n",
    "])\n",
    "\n",
    "data = [\n",
    "    ('111', 'Unit1', 200, 500, 800, 400),\n",
    "    ('222', 'Unit2', 800, 1300, 800, 500),\n",
    "    ('444', 'Unit4', 100, None, 700, 300)\n",
    "]\n",
    "\n",
    "sourceDF = spark.createDataFrame(data=data, schema=schema)\n",
    "display(sourceDF)"
   ]
  },
  {
   "cell_type": "code",
   "execution_count": 0,
   "metadata": {
    "application/vnd.databricks.v1+cell": {
     "cellMetadata": {
      "byteLimit": 2048000,
      "rowLimit": 10000
     },
     "inputWidgets": {},
     "nuid": "f5fe7e9d-f68b-4284-a01e-4a6ce6d0b3f1",
     "showTitle": false,
     "tableResultSettingsMap": {},
     "title": ""
    }
   },
   "outputs": [],
   "source": [
    "joined_df = (\n",
    "    sourceDF.join(\n",
    "        target_table,\n",
    "        (sourceDF.pk1 == target_table.pk1)\n",
    "        & (sourceDF.pk2 == target_table.pk2)\n",
    "        & (target_table.active_status == \"Y\"),\n",
    "        \"left\",\n",
    "    )\n",
    "    .selectExpr(\"*\")\n",
    "    .select(\n",
    "        sourceDF[\"*\"],\n",
    "        target_table[\"pk1\"].alias(\"target_pk1\"),\n",
    "        target_table[\"pk2\"].alias(\"target_pk2\"),\n",
    "        target_table[\"dim1\"].alias(\"target_dim1\"),\n",
    "        target_table[\"dim2\"].alias(\"target_dim2\"),\n",
    "        target_table[\"dim3\"].alias(\"target_dim3\"),\n",
    "        target_table[\"dim4\"].alias(\"target_dim4\"),\n",
    "    )\n",
    ")\n",
    "display(joined_df)"
   ]
  },
  {
   "cell_type": "code",
   "execution_count": 0,
   "metadata": {
    "application/vnd.databricks.v1+cell": {
     "cellMetadata": {
      "byteLimit": 2048000,
      "rowLimit": 10000
     },
     "inputWidgets": {},
     "nuid": "94cf7d9c-bf6b-4a50-9ab9-84ac5e592162",
     "showTitle": false,
     "tableResultSettingsMap": {},
     "title": ""
    }
   },
   "outputs": [],
   "source": [
    "changed_and_new_data_df = joined_df.filter(\n",
    "    xxhash64(joined_df.dim1, joined_df.dim2, joined_df.dim3, joined_df.dim4)\n",
    "    != xxhash64(joined_df.target_dim1,joined_df.target_dim2,joined_df.target_dim3,joined_df.target_dim4)\n",
    ")\n",
    "display(changed_and_new_data_df)"
   ]
  },
  {
   "cell_type": "code",
   "execution_count": 0,
   "metadata": {
    "application/vnd.databricks.v1+cell": {
     "cellMetadata": {
      "byteLimit": 2048000,
      "rowLimit": 10000
     },
     "inputWidgets": {},
     "nuid": "f81c787b-c8ce-492c-9cc7-5cce4082f987",
     "showTitle": false,
     "tableResultSettingsMap": {},
     "title": ""
    }
   },
   "outputs": [],
   "source": [
    "target_table.show()"
   ]
  },
  {
   "cell_type": "code",
   "execution_count": 0,
   "metadata": {
    "application/vnd.databricks.v1+cell": {
     "cellMetadata": {
      "byteLimit": 2048000,
      "rowLimit": 10000
     },
     "inputWidgets": {},
     "nuid": "f9e6a255-74e8-46ce-a209-757d8221f83d",
     "showTitle": false,
     "tableResultSettingsMap": {},
     "title": ""
    }
   },
   "outputs": [],
   "source": [
    "changed_and_new_data_df_with_merge_key = changed_and_new_data_df.withColumn(\"MERGEKEY\", concat(changed_and_new_data_df.pk1, changed_and_new_data_df.pk2))\n",
    "display(changed_and_new_data_df_with_merge_key)"
   ]
  },
  {
   "cell_type": "code",
   "execution_count": 0,
   "metadata": {
    "application/vnd.databricks.v1+cell": {
     "cellMetadata": {
      "byteLimit": 2048000,
      "rowLimit": 10000
     },
     "inputWidgets": {},
     "nuid": "6852b743-d065-4fe8-ab23-9d53fc72f69f",
     "showTitle": false,
     "tableResultSettingsMap": {},
     "title": ""
    }
   },
   "outputs": [],
   "source": [
    "extra_records_for_changed_records = changed_and_new_data_df.filter(\n",
    "    \"target_pk1 is not null\"\n",
    ").withColumn(\"MERGEKEY\", lit(None))\n",
    "display(extra_records_for_changed_records)"
   ]
  },
  {
   "cell_type": "code",
   "execution_count": 0,
   "metadata": {
    "application/vnd.databricks.v1+cell": {
     "cellMetadata": {
      "byteLimit": 2048000,
      "rowLimit": 10000
     },
     "inputWidgets": {},
     "nuid": "9adfeef1-7f75-428c-955b-5b48d3de56ca",
     "showTitle": false,
     "tableResultSettingsMap": {},
     "title": ""
    }
   },
   "outputs": [],
   "source": [
    "final_SCD_DF = changed_and_new_data_df_with_merge_key.union(extra_records_for_changed_records)\n",
    "display(final_SCD_DF)"
   ]
  },
  {
   "cell_type": "code",
   "execution_count": 0,
   "metadata": {
    "application/vnd.databricks.v1+cell": {
     "cellMetadata": {
      "byteLimit": 2048000,
      "rowLimit": 10000
     },
     "inputWidgets": {},
     "nuid": "3a526489-8089-45dc-8f8e-0ddd445cf69d",
     "showTitle": false,
     "tableResultSettingsMap": {},
     "title": ""
    }
   },
   "outputs": [],
   "source": [
    "target_table_delta.alias(\"target\").merge(\n",
    "    source = final_SCD_DF.alias(\"source\"),\n",
    "    condition = \"source.MERGEKEY = concat(target.pk1,target.pk2) and target.active_status = 'Y'\",\n",
    ").whenMatchedUpdate(\n",
    "    set={\"active_status\": \"'N'\", \"end_date\": \"current_date\"}\n",
    ").whenNotMatchedInsert(\n",
    "    values={\n",
    "        \"pk1\": \"source.pk1\",\n",
    "        \"pk2\": \"source.pk2\",\n",
    "        \"dim1\": \"source.dim1\",\n",
    "        \"dim2\": \"source.dim2\",\n",
    "        \"dim3\": \"source.dim3\",\n",
    "        \"dim4\": \"source.dim4\",\n",
    "        \"active_status\": \"'Y'\",\n",
    "        \"start_date\": \"current_date\",\n",
    "        \"end_date\": \"to_date('9999-12-31','yyyy-MM-dd')\",\n",
    "    }\n",
    ").execute()"
   ]
  },
  {
   "cell_type": "code",
   "execution_count": 0,
   "metadata": {
    "application/vnd.databricks.v1+cell": {
     "cellMetadata": {
      "byteLimit": 2048000,
      "rowLimit": 10000
     },
     "inputWidgets": {},
     "nuid": "2612337e-cf1f-4f76-a065-fcd78ec15e7f",
     "showTitle": false,
     "tableResultSettingsMap": {},
     "title": ""
    }
   },
   "outputs": [],
   "source": [
    "display(target_table) # or display(target_table_delta.toDF())"
   ]
  },
  {
   "cell_type": "code",
   "execution_count": 0,
   "metadata": {
    "application/vnd.databricks.v1+cell": {
     "cellMetadata": {},
     "inputWidgets": {},
     "nuid": "70610a91-4410-4857-9e37-6534b91a9c0b",
     "showTitle": false,
     "tableResultSettingsMap": {},
     "title": ""
    }
   },
   "outputs": [],
   "source": []
  }
 ],
 "metadata": {
  "application/vnd.databricks.v1+notebook": {
   "computePreferences": null,
   "dashboards": [],
   "environmentMetadata": {
    "base_environment": "",
    "environment_version": "2"
   },
   "inputWidgetPreferences": null,
   "language": "python",
   "notebookMetadata": {
    "mostRecentlyExecutedCommandWithImplicitDF": {
     "commandId": 8883341463956970,
     "dataframes": [
      "_sqldf"
     ]
    },
    "pythonIndentUnit": 4
   },
   "notebookName": "SCD-2",
   "widgets": {}
  },
  "language_info": {
   "name": "python"
  }
 },
 "nbformat": 4,
 "nbformat_minor": 0
}
