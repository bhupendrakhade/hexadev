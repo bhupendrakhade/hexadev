{
 "cells": [
  {
   "cell_type": "markdown",
   "metadata": {
    "application/vnd.databricks.v1+cell": {
     "cellMetadata": {},
     "inputWidgets": {},
     "nuid": "e47aa8a3-595e-4b72-b7b8-0d64c500be48",
     "showTitle": false,
     "tableResultSettingsMap": {},
     "title": ""
    }
   },
   "source": [
    "## 1. Pivot"
   ]
  },
  {
   "cell_type": "code",
   "execution_count": 0,
   "metadata": {
    "application/vnd.databricks.v1+cell": {
     "cellMetadata": {
      "byteLimit": 2048000,
      "rowLimit": 10000
     },
     "inputWidgets": {},
     "nuid": "52097a1f-a81f-4de4-967a-8ecb0d1f6b3d",
     "showTitle": false,
     "tableResultSettingsMap": {},
     "title": ""
    }
   },
   "outputs": [],
   "source": [
    "from pyspark.sql import SparkSession\n",
    "\n",
    "spark = SparkSession.builder.appName(\"PivotExample\").getOrCreate()\n",
    "\n",
    "data = [\n",
    "    (\"Product A\", \"Jan\", 100),\n",
    "    (\"Product A\", \"Feb\", 150),\n",
    "    (\"Product B\", \"Jan\", 200),\n",
    "    (\"Product B\", \"Feb\", 180),\n",
    "    (\"Product C\", \"Mar\", 220),\n",
    "    (\"Product A\", \"Mar\", 120),\n",
    "]\n",
    "\n",
    "columns = [\"product\", \"month\", \"sales\"]\n",
    "df = spark.createDataFrame(data, columns)\n",
    "display(df)"
   ]
  },
  {
   "cell_type": "code",
   "execution_count": 0,
   "metadata": {
    "application/vnd.databricks.v1+cell": {
     "cellMetadata": {
      "byteLimit": 2048000,
      "rowLimit": 10000
     },
     "inputWidgets": {},
     "nuid": "b42d0d3c-50ad-402e-a72d-c17b0d030401",
     "showTitle": false,
     "tableResultSettingsMap": {},
     "title": ""
    }
   },
   "outputs": [],
   "source": [
    "from pyspark.sql.functions import first\n",
    "pivot_df = df.groupBy(\"product\").pivot(\"month\").agg(first(\"sales\"))\n",
    "display(pivot_df)"
   ]
  },
  {
   "cell_type": "code",
   "execution_count": 0,
   "metadata": {
    "application/vnd.databricks.v1+cell": {
     "cellMetadata": {
      "byteLimit": 2048000,
      "rowLimit": 10000
     },
     "inputWidgets": {},
     "nuid": "e6f58e58-97f6-4f74-9678-9b70083a7fee",
     "showTitle": false,
     "tableResultSettingsMap": {},
     "title": ""
    }
   },
   "outputs": [],
   "source": [
    "pivot_df_limited = df.groupBy(\"product\").pivot(\"month\", [\"Jan\", \"Feb\"]).agg(first(\"sales\"))\n",
    "display(pivot_df_limited)"
   ]
  },
  {
   "cell_type": "markdown",
   "metadata": {
    "application/vnd.databricks.v1+cell": {
     "cellMetadata": {},
     "inputWidgets": {},
     "nuid": "cdd476f1-24d9-4dc6-99a3-fabe25fddf51",
     "showTitle": false,
     "tableResultSettingsMap": {},
     "title": ""
    }
   },
   "source": [
    "## 2. UnPivot"
   ]
  },
  {
   "cell_type": "code",
   "execution_count": 0,
   "metadata": {
    "application/vnd.databricks.v1+cell": {
     "cellMetadata": {
      "byteLimit": 2048000,
      "rowLimit": 10000
     },
     "inputWidgets": {},
     "nuid": "c73253eb-7192-4b12-a6d1-ea2a0e255e7d",
     "showTitle": false,
     "tableResultSettingsMap": {},
     "title": ""
    }
   },
   "outputs": [],
   "source": [
    "unpivot_df = pivot_df.selectExpr(\n",
    "    \"product\",\n",
    "    \"stack(3, 'Jan', Jan, 'Feb', Feb, 'Mar', Mar) as (month, sales)\"\n",
    ")\n",
    "display(unpivot_df)"
   ]
  },
  {
   "cell_type": "code",
   "execution_count": 0,
   "metadata": {
    "application/vnd.databricks.v1+cell": {
     "cellMetadata": {
      "byteLimit": 2048000,
      "rowLimit": 10000
     },
     "inputWidgets": {},
     "nuid": "be44878a-e012-404d-888f-85e73dc07141",
     "showTitle": false,
     "tableResultSettingsMap": {},
     "title": ""
    }
   },
   "outputs": [],
   "source": [
    "from pyspark.sql.functions import array, struct, col, explode, lit\n",
    "\n",
    "unpivot_df_alt = pivot_df.select(\n",
    "    col(\"product\"),\n",
    "    explode(array(\n",
    "        struct(lit(\"Jan\").alias(\"month\"), col(\"Jan\").alias(\"sales\")),\n",
    "        struct(lit(\"Feb\").alias(\"month\"), col(\"Feb\").alias(\"sales\")),\n",
    "        struct(lit(\"Mar\").alias(\"month\"), col(\"Mar\").alias(\"sales\"))\n",
    "    )).alias(\"month_sales\")\n",
    ").select(\"product\", \"month_sales.month\", \"month_sales.sales\")\n",
    "\n",
    "display(unpivot_df_alt)"
   ]
  },
  {
   "cell_type": "code",
   "execution_count": 0,
   "metadata": {
    "application/vnd.databricks.v1+cell": {
     "cellMetadata": {
      "byteLimit": 2048000,
      "rowLimit": 10000
     },
     "inputWidgets": {},
     "nuid": "fb3a105e-127c-4203-9d0b-935710adc402",
     "showTitle": false,
     "tableResultSettingsMap": {},
     "title": ""
    }
   },
   "outputs": [],
   "source": [
    "unpivot_df_alt.union(unpivot_df).show()"
   ]
  },
  {
   "cell_type": "code",
   "execution_count": 0,
   "metadata": {
    "application/vnd.databricks.v1+cell": {
     "cellMetadata": {},
     "inputWidgets": {},
     "nuid": "300e3f8d-72c5-465c-ad0e-277f74260107",
     "showTitle": false,
     "tableResultSettingsMap": {},
     "title": ""
    }
   },
   "outputs": [],
   "source": []
  }
 ],
 "metadata": {
  "application/vnd.databricks.v1+notebook": {
   "computePreferences": null,
   "dashboards": [],
   "environmentMetadata": {
    "base_environment": "",
    "environment_version": "2"
   },
   "inputWidgetPreferences": null,
   "language": "python",
   "notebookMetadata": {
    "pythonIndentUnit": 4
   },
   "notebookName": "14. Pivot and Unpivot",
   "widgets": {}
  },
  "language_info": {
   "name": "python"
  }
 },
 "nbformat": 4,
 "nbformat_minor": 0
}
