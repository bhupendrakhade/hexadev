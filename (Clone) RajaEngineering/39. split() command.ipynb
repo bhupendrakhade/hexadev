{
 "cells": [
  {
   "cell_type": "markdown",
   "metadata": {
    "application/vnd.databricks.v1+cell": {
     "cellMetadata": {},
     "inputWidgets": {},
     "nuid": "daa783c4-cab3-4e73-bf93-692eb5f369ab",
     "showTitle": false,
     "tableResultSettingsMap": {},
     "title": ""
    }
   },
   "source": [
    "## 1. Input data"
   ]
  },
  {
   "cell_type": "code",
   "execution_count": 0,
   "metadata": {
    "application/vnd.databricks.v1+cell": {
     "cellMetadata": {
      "byteLimit": 2048000,
      "rowLimit": 10000
     },
     "inputWidgets": {},
     "nuid": "ebdbaca8-d726-432b-93f0-1bb127c5093c",
     "showTitle": false,
     "tableResultSettingsMap": {},
     "title": ""
    }
   },
   "outputs": [],
   "source": [
    "data = [\n",
    "    (\"apple,banana,cherry\",),\n",
    "    (\"orange|grape|kiwi\",),\n",
    "    (\"mango pear watermelon\",),\n",
    "    (\"date;fig;plum\",),\n",
    "]\n",
    "columns = [\"fruits\"]\n",
    "df = spark.createDataFrame(data, columns)\n",
    "\n",
    "display(df)\n",
    "df.printSchema()"
   ]
  },
  {
   "cell_type": "code",
   "execution_count": 0,
   "metadata": {
    "application/vnd.databricks.v1+cell": {
     "cellMetadata": {
      "byteLimit": 2048000,
      "rowLimit": 10000
     },
     "inputWidgets": {},
     "nuid": "6a26f6fc-17f1-4d57-83da-e645e76a13dd",
     "showTitle": false,
     "tableResultSettingsMap": {},
     "title": ""
    }
   },
   "outputs": [],
   "source": [
    "from pyspark.sql.functions import split, size\n",
    "\n",
    "df_comma_split = df.withColumn(\"fruit_array\", split(df[\"fruits\"], \",\")) \\\n",
    "    .withColumn(\"length\", size(\"fruit_array\"))\n",
    "display(df_comma_split)\n",
    "df_comma_split.printSchema()"
   ]
  },
  {
   "cell_type": "code",
   "execution_count": 0,
   "metadata": {
    "application/vnd.databricks.v1+cell": {
     "cellMetadata": {
      "byteLimit": 2048000,
      "rowLimit": 10000
     },
     "inputWidgets": {},
     "nuid": "95a5279a-3a12-4215-add6-74d697dfd2d4",
     "showTitle": false,
     "tableResultSettingsMap": {},
     "title": ""
    }
   },
   "outputs": [],
   "source": [
    "df_comma_split = df.withColumn(\"fruit_array\", split(df[\"fruits\"], \"[,|;\\s]\")) \\\n",
    "    .withColumn(\"length\", size(\"fruit_array\"))\n",
    "display(df_comma_split)\n",
    "df_comma_split.printSchema()"
   ]
  },
  {
   "cell_type": "code",
   "execution_count": 0,
   "metadata": {
    "application/vnd.databricks.v1+cell": {
     "cellMetadata": {
      "byteLimit": 2048000,
      "rowLimit": 10000
     },
     "inputWidgets": {},
     "nuid": "3a1ac2b4-a45d-4e5e-8bde-7c270fd059ac",
     "showTitle": false,
     "tableResultSettingsMap": {},
     "title": ""
    }
   },
   "outputs": [],
   "source": [
    "df_comma_split = df.withColumn(\"fruit_array\", split(df[\"fruits\"], \"[,|;\\s]\",2)) \\\n",
    "    .withColumn(\"length\", size(\"fruit_array\"))\n",
    "display(df_comma_split)\n",
    "df_comma_split.printSchema()"
   ]
  },
  {
   "cell_type": "code",
   "execution_count": 0,
   "metadata": {
    "application/vnd.databricks.v1+cell": {
     "cellMetadata": {
      "byteLimit": 2048000,
      "rowLimit": 10000
     },
     "inputWidgets": {},
     "nuid": "22914310-cdd6-4710-abc7-cb89716f8743",
     "showTitle": false,
     "tableResultSettingsMap": {},
     "title": ""
    }
   },
   "outputs": [],
   "source": [
    "from pyspark.sql.functions import col\n",
    "\n",
    "df_comma_split = df.withColumn(\"fruit_array\", split(df[\"fruits\"], \"[,|;\\s]\")) \\\n",
    "    .withColumn(\"first_fruit\", col(\"fruit_array\")[0]) \\\n",
    "        .withColumn(\"second_fruit\", col(\"fruit_array\").getItem(1)) \\\n",
    "            .withColumn(\"third_fruit\", col(\"fruit_array\")[2])\n",
    "display(df_comma_split)\n",
    "df_comma_split.printSchema()"
   ]
  },
  {
   "cell_type": "code",
   "execution_count": 0,
   "metadata": {
    "application/vnd.databricks.v1+cell": {
     "cellMetadata": {},
     "inputWidgets": {},
     "nuid": "7f5c7933-fea1-411d-b9d8-679d09428e53",
     "showTitle": false,
     "tableResultSettingsMap": {},
     "title": ""
    }
   },
   "outputs": [],
   "source": []
  }
 ],
 "metadata": {
  "application/vnd.databricks.v1+notebook": {
   "computePreferences": null,
   "dashboards": [],
   "environmentMetadata": {
    "base_environment": "",
    "environment_version": "2"
   },
   "inputWidgetPreferences": null,
   "language": "python",
   "notebookMetadata": {
    "pythonIndentUnit": 4
   },
   "notebookName": "39. split() command",
   "widgets": {}
  },
  "language_info": {
   "name": "python"
  }
 },
 "nbformat": 4,
 "nbformat_minor": 0
}
